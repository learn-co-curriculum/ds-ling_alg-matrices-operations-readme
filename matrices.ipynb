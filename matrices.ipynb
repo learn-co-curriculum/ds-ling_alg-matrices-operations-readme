{
 "cells": [
  {
   "cell_type": "markdown",
   "metadata": {},
   "source": [
    "## Matrices and Operations\n",
    "\n",
    "## Objectives\n",
    "\n",
    "* Describe a matrix as a combination of scalar values in multiple dimensions.\n",
    "* Define a matrix in python and using indexing to address/modify its elements.\n",
    "* Apply basic matrix-matrix and vector-matrix arithmetic operations.\n",
    "* Calculate dot products, matrix transpose for solving systems of equatrions."
   ]
  },
  {
   "cell_type": "markdown",
   "metadata": {},
   "source": [
    "## Introduction\n",
    "\n",
    "A matrix is a rectangular array of numbers written between square brackets. As compared to vectors, a matrix is a multi-dimensional array of scalars that can possibly have multiple rows as well as columns. It usually denoted by an **m x n** notation where n is the number of rows and M is number of columns. A matrix is usually written down as:\n",
    "\n",
    "$$\n",
    "\\left(\\begin{array}{cc} \n",
    "m1 & m2 & m3 \\\\\n",
    "m4 & m5 & m6 \\\\\n",
    "m7 & m8 & m9\n",
    "\\end{array}\\right)\n",
    "$$\n",
    "\n",
    "Here m1,..,m9 are scalar values. \n",
    "\n",
    "In machine learning, a vector is known to be a special case of a matrix. A vector is a matrix that has only 1 column so you have an N x 1 matrix. N is the number of rows, and 1 here is the number of columns, so, so matrix with just one column is what we call a vector. \n",
    "\n",
    "We counter matrices in machine learning during model training where data is comprised of many rows and columns and often represented using the capital letter “X”.\n",
    "\n",
    "Often the dimensions of the matrix are denoted as m and n for the number of rows and the number of columns.\n",
    "\n",
    "$$\n",
    "Matrix (m x n ) = \n",
    "\\left(\\begin{array}{cc} \n",
    "1,1 & 1,2 & 1,3 \\\\\n",
    "2,1 & 2,2 & 2,3 \\\\\n",
    "3,1 & 3,2 & 3,3 \n",
    "\\end{array}\\right)\n",
    "$$\n",
    "\n",
    "Now that we know what a matrix is, let’s look at defining one in Python.\n",
    "\n"
   ]
  },
  {
   "cell_type": "markdown",
   "metadata": {},
   "source": [
    "### Defining a Matrix in Python"
   ]
  },
  {
   "cell_type": "markdown",
   "metadata": {},
   "source": [
    "As opposed to one-dimensional arrays used by vectors, We can represent a matrix in Python using a multi-dimensional NumPy array. A NumPy array can be constructed given a list of lists. For example, below is a 3 row, 3 column matrix being created from a list of three lists. "
   ]
  },
  {
   "cell_type": "code",
   "execution_count": 2,
   "metadata": {},
   "outputs": [
    {
     "name": "stdout",
     "output_type": "stream",
     "text": [
      "[[1 2 3]\n",
      " [4 5 6]\n",
      " [7 8 9]]\n"
     ]
    }
   ],
   "source": [
    "import numpy as np\n",
    "X = np.array([[1, 2, 3], [4, 5, 6], [7, 8, 9]])\n",
    "print(X)"
   ]
  },
  {
   "cell_type": "markdown",
   "metadata": {},
   "source": [
    "Note: Take special care with brackets during definition as opening and closing of the square brackets signifies a new row. "
   ]
  },
  {
   "cell_type": "markdown",
   "metadata": {},
   "source": [
    "### Matrix Indexing "
   ]
  },
  {
   "cell_type": "markdown",
   "metadata": {},
   "source": [
    "In 2d arrays like the one we created above, we use a row, column notation. We use a `:` to indicate all rows or all columns. Also keep in mind that the indexing in both vectors and matrices start at `0` and finishes at `n-1` and `m-1`."
   ]
  },
  {
   "cell_type": "code",
   "execution_count": 3,
   "metadata": {},
   "outputs": [
    {
     "name": "stdout",
     "output_type": "stream",
     "text": [
      "1\n",
      "9\n",
      "[1 2 3]\n",
      "[1 4 7]\n",
      "[[1 2 3]\n",
      " [4 5 6]\n",
      " [7 8 9]]\n"
     ]
    }
   ],
   "source": [
    "print (X[0, 0]) # element at first row and first column\n",
    "\n",
    "print (X[-1, -1]) # elemenet last row and last column \n",
    "\n",
    "print (X[0, :]) # first row and all columns\n",
    "\n",
    "print (X[:, 0]) # all rows and first column \n",
    "\n",
    "print (X[:]) # all rows and all columns"
   ]
  },
  {
   "cell_type": "markdown",
   "metadata": {},
   "source": [
    "We can also use indexing to address and assign new values to elements of a matrix as shown below:"
   ]
  },
  {
   "cell_type": "code",
   "execution_count": 4,
   "metadata": {},
   "outputs": [
    {
     "name": "stdout",
     "output_type": "stream",
     "text": [
      "[[11  2  3]\n",
      " [12  5  6]\n",
      " [13  8 15]]\n",
      "[[11  2  3]\n",
      " [12  5  6]\n",
      " [16 16 16]]\n",
      "[[11  2 17]\n",
      " [12  5 17]\n",
      " [16 16 17]]\n"
     ]
    }
   ],
   "source": [
    "X[:, 0] = [11, 12, 13] # set column 0\n",
    "X[2, 2] = 15          # set a single element in third row and thirs column\n",
    "print (X)\n",
    "\n",
    "X[2] = 16  # sets everything in row 3 to 16!\n",
    "print (X)\n",
    "\n",
    "X[:,2] = 17  # sets everything in column 3 to 17!\n",
    "print (X)"
   ]
  },
  {
   "cell_type": "markdown",
   "metadata": {},
   "source": [
    "### Basic Matrix Arithmetic "
   ]
  },
  {
   "cell_type": "markdown",
   "metadata": {},
   "source": [
    "We shall now look at simple matrix-matrix arithmetic, where all operations are performed element-wise between two matrices of equal size to result in a new matrix with the same size - very similar to vector arithmetic that saw earlier. "
   ]
  },
  {
   "cell_type": "markdown",
   "metadata": {},
   "source": [
    "#### Addition\n",
    "Two matrices with the same dimensions can be added together to create a new third matrix as:\n",
    "\n",
    "```\n",
    "         a11 + b11, a12 + b12\n",
    "A + B = (a21 + b21, a22 + b22)\n",
    "         a31 + b31, a32 + b32\n",
    "```\n",
    "\n",
    "here `a(nm)` and `b(nm)` represent row and column locations. We can perform this operation in Numpy as:"
   ]
  },
  {
   "cell_type": "code",
   "execution_count": 5,
   "metadata": {},
   "outputs": [
    {
     "name": "stdout",
     "output_type": "stream",
     "text": [
      "[[1 2 3]\n",
      " [4 5 6]] \n",
      "+\n",
      " [[ 7  8  9]\n",
      " [10 11 12]] \n",
      "=\n",
      " [[ 8 10 12]\n",
      " [14 16 18]]\n"
     ]
    }
   ],
   "source": [
    "# create and add two matrices\n",
    "M1 = np.array([[1, 2, 3], [4, 5, 6]])\n",
    "M2 = np.array([[7, 8, 9], [10, 11, 12]])\n",
    "\n",
    "M = M1 + M2\n",
    "\n",
    "print(M1, '\\n+\\n', M2, '\\n=\\n',M)"
   ]
  },
  {
   "cell_type": "markdown",
   "metadata": {},
   "source": [
    "#### Subtraction "
   ]
  },
  {
   "cell_type": "markdown",
   "metadata": {},
   "source": [
    "A matrix can be subtracted from another matrix having the same dimensions as:\n",
    "```\n",
    "         a11 - b11, a12 - b12\n",
    "A - B = (a21 - b21, a22 - b22)\n",
    "         a31 - b31, a32 - b32\n",
    "\n",
    "```"
   ]
  },
  {
   "cell_type": "code",
   "execution_count": 6,
   "metadata": {},
   "outputs": [
    {
     "name": "stdout",
     "output_type": "stream",
     "text": [
      "[[ 7  8  9]\n",
      " [10 11 12]] \n",
      "-\n",
      " [[1 2 3]\n",
      " [4 5 6]] \n",
      "=\n",
      " [[6 6 6]\n",
      " [6 6 6]]\n"
     ]
    }
   ],
   "source": [
    "# create two matrices and subtract one from the other\n",
    "M1 = np.array([[1, 2, 3], [4, 5, 6]])\n",
    "M2 = np.array([[7, 8, 9], [10, 11, 12]])\n",
    "\n",
    "M = M2 - M1\n",
    "\n",
    "print(M2, '\\n-\\n', M1, '\\n=\\n',M)"
   ]
  },
  {
   "cell_type": "markdown",
   "metadata": {},
   "source": [
    "#### Multiplication\n",
    "Two matrices with the same size can be multiplied together, and this is often called element-wise matrix multiplication. When referring to matrix multiplication, a different operator is often used, such as a circle “o”. As with element-wise subtraction and addition, element-wise multiplication involves the multiplication of elements from each parent matrix to calculate the values in the new matrix.\n",
    "\n",
    "```\n",
    "         a11 * b11, a12 * b12\n",
    "A o B = (a21 * b21, a22 * b22)\n",
    "         a31 * b31, a32 * b32\n",
    "```\n"
   ]
  },
  {
   "cell_type": "code",
   "execution_count": 7,
   "metadata": {},
   "outputs": [
    {
     "name": "stdout",
     "output_type": "stream",
     "text": [
      "[[1 2 3]\n",
      " [4 5 6]] \n",
      "o\n",
      " [[ 7  8  9]\n",
      " [10 11 12]] \n",
      "=\n",
      " [[ 7 16 27]\n",
      " [40 55 72]]\n"
     ]
    }
   ],
   "source": [
    "# create two matrices do an element wise multiplication\n",
    "M1 = np.array([[1, 2, 3], [4, 5, 6]])\n",
    "M2 = np.array([[7, 8, 9], [10, 11, 12]])\n",
    "\n",
    "M = M1 * M2\n",
    "\n",
    "print(M1, '\\no\\n', M2, '\\n=\\n',M)"
   ]
  },
  {
   "cell_type": "markdown",
   "metadata": {},
   "source": [
    "#### Division\n",
    "A matrix can be divided by another matrix with the same dimensions. The scalar elements in the resulting matrix are calculated as the division of the elements in each of the matrices.\n",
    "```\n",
    "\n",
    "         a11 / b11, a12 / b12\n",
    "A / B = (a21 / b21, a22 / b22)\n",
    "         a31 / b31, a32 / b32\n",
    "```"
   ]
  },
  {
   "cell_type": "code",
   "execution_count": 8,
   "metadata": {},
   "outputs": [
    {
     "name": "stdout",
     "output_type": "stream",
     "text": [
      "[[ 7  8  9]\n",
      " [10 11 12]] \n",
      " / \n",
      " [[1 2 3]\n",
      " [4 5 6]] \n",
      "=\n",
      " [[7.  4.  3. ]\n",
      " [2.5 2.2 2. ]]\n"
     ]
    }
   ],
   "source": [
    "# create two matrices divide one by the other \n",
    "M1 = np.array([[1, 2, 3], [4, 5, 6]])\n",
    "M2 = np.array([[7, 8, 9], [10, 11, 12]])\n",
    "\n",
    "M = M2 / M1\n",
    "\n",
    "print(M2, '\\n', '/', '\\n', M1, '\\n=\\n',M)"
   ]
  },
  {
   "cell_type": "markdown",
   "metadata": {},
   "source": [
    "### Matrix-Matrix Dot-Product"
   ]
  },
  {
   "cell_type": "markdown",
   "metadata": {},
   "source": [
    "We can calculate dot-products, as seen with vectors, to check the similarity between matrices. The matrix dot product is more complicated than the previous operations and involves a rule as not all matrices can be multiplied together.The rule is as follows:\n",
    "\n",
    ">**The number of columns (n) in the first matrix (A) must equal the number of rows (m) in the second matrix (B).**\n",
    "\n",
    "For example, think of a matrix A having m rows and n columns and matrix B having n rows and and k columns. Provided the n columns in A and n rows b are equal, the result is a new matrix with m rows and k columns.\n",
    "\n",
    "\n",
    ">**C(m,k) = A(m,n) * B(n,k)**\n",
    "\n",
    "The calculations are performed as shown below:\n",
    "```\n",
    "     a11, a12\n",
    "A = (a21, a22)\n",
    "     a31, a32\n",
    " \n",
    "     b11, b12\n",
    "B = (b21, b22)\n",
    " \n",
    "     a11 * b11 + a12 * b21, a11 * b12 + a12 * b22\n",
    "C = (a21 * b11 + a22 * b21, a21 * b12 + a22 * b22)\n",
    "     a31 * b11 + a32 * b21, a31 * b12 + a32 * b22\n",
    "\n",
    "```\n",
    "This rule applies for a chain of matrix multiplications where the number of columns in one matrix in the chain must match the number of rows in the following matrix in the chain.\n",
    "The intuition for the matrix multiplication is that we are calculating the dot product between each row in matrix A with each column in matrix B. For example, we can step down rows of column A and multiply each with column 1 in B to give the scalar values in column 1 of C.\n",
    "\n",
    "This is made clear with the following image.\n",
    "\n",
    "![](https://lh3.googleusercontent.com/Jmb3q-kvNTr1Lz3jgmIIxiPo_GGgwllP_FonFnSROmte0wc1KmM7d_aUJhHzPDsA7wB0es5OTHs51HSSlENTOltoa31TxzZMZlgGpf-l62gCHRaU3C_CsHUWw3orAOLCM5Lucpo)\n",
    "\n",
    "Let's see how to achieve this in python and numpy with `.dot()` as we saw before:"
   ]
  },
  {
   "cell_type": "code",
   "execution_count": 9,
   "metadata": {},
   "outputs": [
    {
     "name": "stdout",
     "output_type": "stream",
     "text": [
      "[[1 2]\n",
      " [3 4]\n",
      " [5 6]] \n",
      ". \n",
      " [[1 2]\n",
      " [3 4]] \n",
      "= [[ 7 10]\n",
      " [15 22]\n",
      " [23 34]]\n"
     ]
    }
   ],
   "source": [
    "# matrix dot product\n",
    "A = np.array([[1, 2], [3, 4], [5, 6]])\n",
    "B = np.array([[1, 2], [3, 4]])\n",
    "\n",
    "C = A.dot(B)\n",
    "\n",
    "print(A, '\\n.', '\\n', B, '\\n=', C)"
   ]
  },
  {
   "cell_type": "markdown",
   "metadata": {},
   "source": [
    "So above , the output matrix has number of rows = number of rows in A , and number of columns = number of columns in B. This will always be the case for a matrix-matrix dot product. If we don't follow the rule stated above , python throws an error as shown below:"
   ]
  },
  {
   "cell_type": "code",
   "execution_count": 10,
   "metadata": {},
   "outputs": [
    {
     "ename": "ValueError",
     "evalue": "shapes (3,2) and (1,2) not aligned: 2 (dim 1) != 1 (dim 0)",
     "output_type": "error",
     "traceback": [
      "\u001b[0;31m---------------------------------------------------------------------------\u001b[0m",
      "\u001b[0;31mValueError\u001b[0m                                Traceback (most recent call last)",
      "\u001b[0;32m<ipython-input-10-1acc0dec94c8>\u001b[0m in \u001b[0;36m<module>\u001b[0;34m()\u001b[0m\n\u001b[1;32m      3\u001b[0m \u001b[0mB\u001b[0m \u001b[0;34m=\u001b[0m \u001b[0mnp\u001b[0m\u001b[0;34m.\u001b[0m\u001b[0marray\u001b[0m\u001b[0;34m(\u001b[0m\u001b[0;34m[\u001b[0m\u001b[0;34m[\u001b[0m\u001b[0;36m1\u001b[0m\u001b[0;34m,\u001b[0m \u001b[0;36m2\u001b[0m\u001b[0;34m]\u001b[0m\u001b[0;34m]\u001b[0m\u001b[0;34m)\u001b[0m\u001b[0;34m\u001b[0m\u001b[0m\n\u001b[1;32m      4\u001b[0m \u001b[0;34m\u001b[0m\u001b[0m\n\u001b[0;32m----> 5\u001b[0;31m \u001b[0mC\u001b[0m \u001b[0;34m=\u001b[0m \u001b[0mA\u001b[0m\u001b[0;34m.\u001b[0m\u001b[0mdot\u001b[0m\u001b[0;34m(\u001b[0m\u001b[0mB\u001b[0m\u001b[0;34m)\u001b[0m\u001b[0;34m\u001b[0m\u001b[0m\n\u001b[0m\u001b[1;32m      6\u001b[0m \u001b[0;34m\u001b[0m\u001b[0m\n\u001b[1;32m      7\u001b[0m \u001b[0mprint\u001b[0m\u001b[0;34m(\u001b[0m\u001b[0mA\u001b[0m\u001b[0;34m,\u001b[0m \u001b[0;34m'\\n.'\u001b[0m\u001b[0;34m,\u001b[0m \u001b[0;34m'\\n'\u001b[0m\u001b[0;34m,\u001b[0m \u001b[0mB\u001b[0m\u001b[0;34m,\u001b[0m \u001b[0;34m'\\n='\u001b[0m\u001b[0;34m,\u001b[0m \u001b[0mC\u001b[0m\u001b[0;34m)\u001b[0m\u001b[0;34m\u001b[0m\u001b[0m\n",
      "\u001b[0;31mValueError\u001b[0m: shapes (3,2) and (1,2) not aligned: 2 (dim 1) != 1 (dim 0)"
     ]
    }
   ],
   "source": [
    "# matrix dot product with mismatched dimensions - intended error\n",
    "A = np.array([[1, 2], [3, 4], [5, 6]])\n",
    "B = np.array([[1, 2]])\n",
    "\n",
    "C = A.dot(B)\n",
    "\n",
    "print(A, '\\n.', '\\n', B, '\\n=', C)"
   ]
  },
  {
   "cell_type": "markdown",
   "metadata": {},
   "source": [
    "### Matrix-Vector Multiplication\n",
    "\n",
    "A matrix and a vector can be multiplied together as long as the rule of matrix multiplication (stated above) is observed. The number of columns in the matrix must equal the number of rows in the vector. As with matrix multiplication, the operation can be written using the dot notation. Because the vector only has one column, the result is always a vector. See the general approach below where A is the matrix being multiplied to v, a vector\n",
    "```\n",
    "A = (a21, a22)\n",
    "     a31, a32\n",
    " \n",
    "     v1\n",
    "v = (v2)\n",
    " \n",
    "     a11 * v1 + a12 * v2\n",
    "c = (a21 * v1 + a22 * v2)\n",
    "     a31 * v1 + a32 * v2\n",
    "```"
   ]
  },
  {
   "cell_type": "markdown",
   "metadata": {},
   "source": [
    "The matrix-vector multiplication can be implemented in NumPy using the dot() function as seen before."
   ]
  },
  {
   "cell_type": "code",
   "execution_count": 11,
   "metadata": {},
   "outputs": [
    {
     "name": "stdout",
     "output_type": "stream",
     "text": [
      "[[1 2]\n",
      " [3 4]\n",
      " [5 6]] \n",
      "dot \n",
      " [0.5 0.5] \n",
      "= [1.5 3.5 5.5]\n"
     ]
    }
   ],
   "source": [
    "# matrix-vector multiplication\n",
    "\n",
    "A = np.array([[1, 2], [3, 4], [5, 6]])\n",
    "v = np.array([0.5, 0.5])\n",
    "\n",
    "C = A.dot(v)\n",
    "\n",
    "print(A,'\\ndot', '\\n',v,'\\n=',C)"
   ]
  },
  {
   "cell_type": "markdown",
   "metadata": {},
   "source": [
    "Similar to scalar-vector multiplication, a scalar-matrix multiplication involves multiplying every element of the matrix to the scalar value, resulting as an output matrix having same dimensions as the input matrix.  "
   ]
  },
  {
   "cell_type": "markdown",
   "metadata": {},
   "source": [
    "### Matrix Transpose\n",
    "\n",
    "Neural networks frequently process weights and inputs of different sizes where the dimensions do not meet the requirements of matrix multiplication. Matrix transpose provides a way to “rotate” one of the matrices so that the operation complies with multiplication requirements and can continue. There are two steps to transpose a matrix:\n",
    "\n",
    "1. Rotate the matrix right 90° clockwise.\n",
    "2. Reverse the order of elements in each row (e.g. [a b c] becomes [c b a]).\n",
    "\n",
    "This can be better understood looking at this image : \n",
    "![](https://static1.squarespace.com/static/54ad91eae4b04d2abc8d6247/t/55f6238ee4b015f33a4d3b7a/1442194319173/)\n",
    "\n",
    "Numpy provides the transpose operation by simply using `.T`  or `.np.transpose()` with the matrix that needs to be transposed as shown below:"
   ]
  },
  {
   "cell_type": "code",
   "execution_count": 12,
   "metadata": {
    "scrolled": true
   },
   "outputs": [
    {
     "name": "stdout",
     "output_type": "stream",
     "text": [
      "[[1 2 3]\n",
      " [4 5 6]\n",
      " [7 8 9]] \n",
      "\n",
      " [[1 4 7]\n",
      " [2 5 8]\n",
      " [3 6 9]] \n",
      "\n",
      " [[1 4 7]\n",
      " [2 5 8]\n",
      " [3 6 9]]\n"
     ]
    }
   ],
   "source": [
    "# create a transpose a matrix\n",
    "\n",
    "a = np.array([\n",
    "   [1, 2, 3], \n",
    "   [4, 5, 6],\n",
    "   [7, 8, 9]])\n",
    "\n",
    "a_transposed = a.T\n",
    "a_transposed_2 = np.transpose(a)\n",
    "\n",
    "print(a,'\\n\\n', a_transposed, '\\n\\n', a_transposed_2)\n"
   ]
  },
  {
   "cell_type": "markdown",
   "metadata": {},
   "source": [
    "## Summary\n",
    "\n",
    "This lesson introduces how to create and process matrices using numpy and python. This lesson, along with the previous lesson of vectors, shows all the necessary operations (and more) required for solving the system of equation we saw earlier using matrix algebra. In the next lesson we shall apply the skills learnt so far on the apples and bananas problem that we defined at the very beginning. "
   ]
  },
  {
   "cell_type": "code",
   "execution_count": null,
   "metadata": {},
   "outputs": [],
   "source": []
  }
 ],
 "metadata": {
  "kernelspec": {
   "display_name": "Python 3",
   "language": "python",
   "name": "python3"
  },
  "language_info": {
   "codemirror_mode": {
    "name": "ipython",
    "version": 3
   },
   "file_extension": ".py",
   "mimetype": "text/x-python",
   "name": "python",
   "nbconvert_exporter": "python",
   "pygments_lexer": "ipython3",
   "version": "3.6.4"
  }
 },
 "nbformat": 4,
 "nbformat_minor": 2
}
